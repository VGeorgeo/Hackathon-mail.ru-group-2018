{
 "cells": [
  {
   "cell_type": "code",
   "execution_count": 158,
   "metadata": {},
   "outputs": [],
   "source": [
    "import pandas as pd\n",
    "from sklearn.feature_extraction.text import CountVectorizer, TfidfTransformer, TfidfVectorizer\n",
    "from sklearn.pipeline import Pipeline\n",
    "from sklearn.linear_model import LogisticRegression\n",
    "from sklearn.model_selection import cross_val_score, GridSearchCV, StratifiedKFold\n",
    "from sklearn.svm import LinearSVC\n",
    "from sklearn.linear_model import LogisticRegression, SGDClassifier\n",
    "import numpy as np"
   ]
  },
  {
   "cell_type": "code",
   "execution_count": null,
   "metadata": {},
   "outputs": [],
   "source": [
    "## Upload data"
   ]
  },
  {
   "cell_type": "code",
   "execution_count": 13,
   "metadata": {},
   "outputs": [
    {
     "data": {
      "text/html": [
       "<div>\n",
       "<style scoped>\n",
       "    .dataframe tbody tr th:only-of-type {\n",
       "        vertical-align: middle;\n",
       "    }\n",
       "\n",
       "    .dataframe tbody tr th {\n",
       "        vertical-align: top;\n",
       "    }\n",
       "\n",
       "    .dataframe thead th {\n",
       "        text-align: right;\n",
       "    }\n",
       "</style>\n",
       "<table border=\"1\" class=\"dataframe\">\n",
       "  <thead>\n",
       "    <tr style=\"text-align: right;\">\n",
       "      <th></th>\n",
       "      <th>id</th>\n",
       "      <th>question</th>\n",
       "      <th>cat_id</th>\n",
       "      <th>cat_name</th>\n",
       "      <th>answer</th>\n",
       "    </tr>\n",
       "  </thead>\n",
       "  <tbody>\n",
       "    <tr>\n",
       "      <th>0</th>\n",
       "      <td>0</td>\n",
       "      <td>Что в доме Облонских?.</td>\n",
       "      <td>1368</td>\n",
       "      <td>Общество</td>\n",
       "      <td>анна б л я д ь</td>\n",
       "    </tr>\n",
       "    <tr>\n",
       "      <th>1</th>\n",
       "      <td>1</td>\n",
       "      <td>Facebook блокировка, как можно узнать причину?...</td>\n",
       "      <td>1328</td>\n",
       "      <td>Интернет</td>\n",
       "      <td>чего там такого интересного? удались и не возв...</td>\n",
       "    </tr>\n",
       "    <tr>\n",
       "      <th>2</th>\n",
       "      <td>2</td>\n",
       "      <td>Что можно готовить на пост Марии?.</td>\n",
       "      <td>1427</td>\n",
       "      <td>Прочее кулинарное</td>\n",
       "      <td>бульбу..</td>\n",
       "    </tr>\n",
       "    <tr>\n",
       "      <th>3</th>\n",
       "      <td>3</td>\n",
       "      <td>Изменить голос в программе.Нужно простую запис...</td>\n",
       "      <td>1328</td>\n",
       "      <td>Интернет</td>\n",
       "      <td>надо симитировать голос, спародировать. и прог...</td>\n",
       "    </tr>\n",
       "    <tr>\n",
       "      <th>4</th>\n",
       "      <td>4</td>\n",
       "      <td>Мне кажется, в 95 лет жизнь только начинается....</td>\n",
       "      <td>1368</td>\n",
       "      <td>Общество</td>\n",
       "      <td>Отличная идея! Обараненные рабы на раше заценят))</td>\n",
       "    </tr>\n",
       "    <tr>\n",
       "      <th>5</th>\n",
       "      <td>5</td>\n",
       "      <td>Как считаете с чем Вам везло или повезло в жиз...</td>\n",
       "      <td>1443</td>\n",
       "      <td>Психология</td>\n",
       "      <td>с рождением... из миллионов сперматозоидов тол...</td>\n",
       "    </tr>\n",
       "    <tr>\n",
       "      <th>6</th>\n",
       "      <td>6</td>\n",
       "      <td>Стоит ли брать чехол для телефона на Aliexpress?.</td>\n",
       "      <td>1508</td>\n",
       "      <td>Мобильные устройства</td>\n",
       "      <td>Да вполне на алиэкспресс чехлы стоят не дорого</td>\n",
       "    </tr>\n",
       "    <tr>\n",
       "      <th>7</th>\n",
       "      <td>7</td>\n",
       "      <td>Фридрихштадтпаласт, балет - вам это о чем то г...</td>\n",
       "      <td>1469</td>\n",
       "      <td>Прочее туристическое</td>\n",
       "      <td>Видела записи. Чем-то напоминает наш Ленинград...</td>\n",
       "    </tr>\n",
       "    <tr>\n",
       "      <th>8</th>\n",
       "      <td>8</td>\n",
       "      <td>Какое получится число? Если сократь дробь 3/2,...</td>\n",
       "      <td>1380</td>\n",
       "      <td>Прочие развлечения</td>\n",
       "      <td>Да</td>\n",
       "    </tr>\n",
       "    <tr>\n",
       "      <th>9</th>\n",
       "      <td>9</td>\n",
       "      <td>Я слышал от Вайкуле следующее :\"Нам, ЕВРОПЕЙЦА...</td>\n",
       "      <td>1369</td>\n",
       "      <td>Политика</td>\n",
       "      <td>Армянское радио отвечает:Украинцы - не европей...</td>\n",
       "    </tr>\n",
       "  </tbody>\n",
       "</table>\n",
       "</div>"
      ],
      "text/plain": [
       "   id                                           question  cat_id  \\\n",
       "0   0                             Что в доме Облонских?.    1368   \n",
       "1   1  Facebook блокировка, как можно узнать причину?...    1328   \n",
       "2   2                 Что можно готовить на пост Марии?.    1427   \n",
       "3   3  Изменить голос в программе.Нужно простую запис...    1328   \n",
       "4   4  Мне кажется, в 95 лет жизнь только начинается....    1368   \n",
       "5   5  Как считаете с чем Вам везло или повезло в жиз...    1443   \n",
       "6   6  Стоит ли брать чехол для телефона на Aliexpress?.    1508   \n",
       "7   7  Фридрихштадтпаласт, балет - вам это о чем то г...    1469   \n",
       "8   8  Какое получится число? Если сократь дробь 3/2,...    1380   \n",
       "9   9  Я слышал от Вайкуле следующее :\"Нам, ЕВРОПЕЙЦА...    1369   \n",
       "\n",
       "               cat_name                                             answer  \n",
       "0              Общество                                     анна б л я д ь  \n",
       "1              Интернет  чего там такого интересного? удались и не возв...  \n",
       "2     Прочее кулинарное                                           бульбу..  \n",
       "3              Интернет  надо симитировать голос, спародировать. и прог...  \n",
       "4              Общество  Отличная идея! Обараненные рабы на раше заценят))  \n",
       "5            Психология  с рождением... из миллионов сперматозоидов тол...  \n",
       "6  Мобильные устройства     Да вполне на алиэкспресс чехлы стоят не дорого  \n",
       "7  Прочее туристическое  Видела записи. Чем-то напоминает наш Ленинград...  \n",
       "8    Прочие развлечения                                                 Да  \n",
       "9              Политика  Армянское радио отвечает:Украинцы - не европей...  "
      ]
     },
     "execution_count": 13,
     "metadata": {},
     "output_type": "execute_result"
    }
   ],
   "source": [
    "features_only=pd.read_csv('./data/features_only.csv')\n",
    "features_only.head(10)"
   ]
  },
  {
   "cell_type": "code",
   "execution_count": 164,
   "metadata": {},
   "outputs": [],
   "source": [
    "train=pd.read_csv('./data/train.csv')\n",
    "test=pd.read_csv('./data/test.csv')"
   ]
  },
  {
   "cell_type": "code",
   "execution_count": 20,
   "metadata": {},
   "outputs": [],
   "source": [
    "together = pd.merge(features_only, train, on='id', how='outer')"
   ]
  },
  {
   "cell_type": "code",
   "execution_count": 21,
   "metadata": {},
   "outputs": [
    {
     "data": {
      "text/html": [
       "<div>\n",
       "<style scoped>\n",
       "    .dataframe tbody tr th:only-of-type {\n",
       "        vertical-align: middle;\n",
       "    }\n",
       "\n",
       "    .dataframe tbody tr th {\n",
       "        vertical-align: top;\n",
       "    }\n",
       "\n",
       "    .dataframe thead th {\n",
       "        text-align: right;\n",
       "    }\n",
       "</style>\n",
       "<table border=\"1\" class=\"dataframe\">\n",
       "  <thead>\n",
       "    <tr style=\"text-align: right;\">\n",
       "      <th></th>\n",
       "      <th>id</th>\n",
       "      <th>question</th>\n",
       "      <th>cat_id</th>\n",
       "      <th>cat_name</th>\n",
       "      <th>answer</th>\n",
       "      <th>target</th>\n",
       "    </tr>\n",
       "  </thead>\n",
       "  <tbody>\n",
       "    <tr>\n",
       "      <th>0</th>\n",
       "      <td>0</td>\n",
       "      <td>Что в доме Облонских?.</td>\n",
       "      <td>1368</td>\n",
       "      <td>Общество</td>\n",
       "      <td>анна б л я д ь</td>\n",
       "      <td>1.0</td>\n",
       "    </tr>\n",
       "    <tr>\n",
       "      <th>1</th>\n",
       "      <td>1</td>\n",
       "      <td>Facebook блокировка, как можно узнать причину?...</td>\n",
       "      <td>1328</td>\n",
       "      <td>Интернет</td>\n",
       "      <td>чего там такого интересного? удались и не возв...</td>\n",
       "      <td>1.0</td>\n",
       "    </tr>\n",
       "    <tr>\n",
       "      <th>2</th>\n",
       "      <td>2</td>\n",
       "      <td>Что можно готовить на пост Марии?.</td>\n",
       "      <td>1427</td>\n",
       "      <td>Прочее кулинарное</td>\n",
       "      <td>бульбу..</td>\n",
       "      <td>0.0</td>\n",
       "    </tr>\n",
       "    <tr>\n",
       "      <th>3</th>\n",
       "      <td>3</td>\n",
       "      <td>Изменить голос в программе.Нужно простую запис...</td>\n",
       "      <td>1328</td>\n",
       "      <td>Интернет</td>\n",
       "      <td>надо симитировать голос, спародировать. и прог...</td>\n",
       "      <td>0.0</td>\n",
       "    </tr>\n",
       "    <tr>\n",
       "      <th>4</th>\n",
       "      <td>4</td>\n",
       "      <td>Мне кажется, в 95 лет жизнь только начинается....</td>\n",
       "      <td>1368</td>\n",
       "      <td>Общество</td>\n",
       "      <td>Отличная идея! Обараненные рабы на раше заценят))</td>\n",
       "      <td>2.0</td>\n",
       "    </tr>\n",
       "  </tbody>\n",
       "</table>\n",
       "</div>"
      ],
      "text/plain": [
       "   id                                           question  cat_id  \\\n",
       "0   0                             Что в доме Облонских?.    1368   \n",
       "1   1  Facebook блокировка, как можно узнать причину?...    1328   \n",
       "2   2                 Что можно готовить на пост Марии?.    1427   \n",
       "3   3  Изменить голос в программе.Нужно простую запис...    1328   \n",
       "4   4  Мне кажется, в 95 лет жизнь только начинается....    1368   \n",
       "\n",
       "            cat_name                                             answer  \\\n",
       "0           Общество                                     анна б л я д ь   \n",
       "1           Интернет  чего там такого интересного? удались и не возв...   \n",
       "2  Прочее кулинарное                                           бульбу..   \n",
       "3           Интернет  надо симитировать голос, спародировать. и прог...   \n",
       "4           Общество  Отличная идея! Обараненные рабы на раше заценят))   \n",
       "\n",
       "   target  \n",
       "0     1.0  \n",
       "1     1.0  \n",
       "2     0.0  \n",
       "3     0.0  \n",
       "4     2.0  "
      ]
     },
     "execution_count": 21,
     "metadata": {},
     "output_type": "execute_result"
    }
   ],
   "source": [
    "together.head()"
   ]
  },
  {
   "cell_type": "code",
   "execution_count": 39,
   "metadata": {},
   "outputs": [],
   "source": [
    "def text_classifier(vectorizer, transformer, classifier):\n",
    "    return Pipeline(\n",
    "            [(\"vectorizer\", vectorizer),\n",
    "            (\"transformer\", transformer),\n",
    "            (\"classifier\", classifier)]\n",
    "        )"
   ]
  },
  {
   "cell_type": "code",
   "execution_count": 40,
   "metadata": {},
   "outputs": [],
   "source": [
    "from sklearn.metrics  import accuracy_score"
   ]
  },
  {
   "cell_type": "code",
   "execution_count": 41,
   "metadata": {},
   "outputs": [],
   "source": [
    "pip = Pipeline([(\"vec\", CountVectorizer(ngram_range=(3,7),analyzer='char')),\\\n",
    "                ('tra',TfidfTransformer()),(\"clf\", LogisticRegression(class_weight='balanced'))])"
   ]
  },
  {
   "cell_type": "code",
   "execution_count": 56,
   "metadata": {},
   "outputs": [],
   "source": [
    "l=together[30000:100000]"
   ]
  },
  {
   "cell_type": "code",
   "execution_count": 57,
   "metadata": {},
   "outputs": [
    {
     "data": {
      "text/plain": [
       "Pipeline(memory=None,\n",
       "     steps=[('vec', CountVectorizer(analyzer='char', binary=False, decode_error='strict',\n",
       "        dtype=<class 'numpy.int64'>, encoding='utf-8', input='content',\n",
       "        lowercase=True, max_df=1.0, max_features=None, min_df=1,\n",
       "        ngram_range=(3, 7), preprocessor=None, stop_words=None,\n",
       "        strip_...ty='l2', random_state=None,\n",
       "          solver='liblinear', tol=0.0001, verbose=0, warm_start=False))])"
      ]
     },
     "execution_count": 57,
     "metadata": {},
     "output_type": "execute_result"
    }
   ],
   "source": [
    "pip.fit(l['answer'],l['target'])"
   ]
  },
  {
   "cell_type": "code",
   "execution_count": 61,
   "metadata": {},
   "outputs": [],
   "source": [
    "predict = pip.predict(together['answer'][:29999])"
   ]
  },
  {
   "cell_type": "code",
   "execution_count": 64,
   "metadata": {},
   "outputs": [
    {
     "data": {
      "text/plain": [
       "0.859128637621254"
      ]
     },
     "execution_count": 64,
     "metadata": {},
     "output_type": "execute_result"
    }
   ],
   "source": [
    "accuracy_score(train['target'][:29999], predict)"
   ]
  },
  {
   "cell_type": "code",
   "execution_count": 128,
   "metadata": {},
   "outputs": [],
   "source": [
    "test_by_table=features_only[1344176:]"
   ]
  },
  {
   "cell_type": "code",
   "execution_count": 76,
   "metadata": {},
   "outputs": [
    {
     "data": {
      "text/html": [
       "<div>\n",
       "<style scoped>\n",
       "    .dataframe tbody tr th:only-of-type {\n",
       "        vertical-align: middle;\n",
       "    }\n",
       "\n",
       "    .dataframe tbody tr th {\n",
       "        vertical-align: top;\n",
       "    }\n",
       "\n",
       "    .dataframe thead th {\n",
       "        text-align: right;\n",
       "    }\n",
       "</style>\n",
       "<table border=\"1\" class=\"dataframe\">\n",
       "  <thead>\n",
       "    <tr style=\"text-align: right;\">\n",
       "      <th></th>\n",
       "      <th>id</th>\n",
       "      <th>question</th>\n",
       "      <th>cat_id</th>\n",
       "      <th>cat_name</th>\n",
       "      <th>answer</th>\n",
       "    </tr>\n",
       "  </thead>\n",
       "  <tbody>\n",
       "    <tr>\n",
       "      <th>1344176</th>\n",
       "      <td>1344176</td>\n",
       "      <td>Почему моего сына преследуют неудачи.</td>\n",
       "      <td>1354</td>\n",
       "      <td>Прочие предсказания</td>\n",
       "      <td>Скорее всего на нем накопилось много негатива ...</td>\n",
       "    </tr>\n",
       "    <tr>\n",
       "      <th>1344177</th>\n",
       "      <td>1344177</td>\n",
       "      <td>Хочу взять кредит. Хочу взять в кредит 250.000...</td>\n",
       "      <td>1346</td>\n",
       "      <td>Банки и Кредиты</td>\n",
       "      <td>Маловероятно по сумме при такой зарплате.</td>\n",
       "    </tr>\n",
       "    <tr>\n",
       "      <th>1344178</th>\n",
       "      <td>1344178</td>\n",
       "      <td>А эту ЗАКРЫТУЮ картину узнаете и покажете? Пож...</td>\n",
       "      <td>1502</td>\n",
       "      <td>Живопись, Графика</td>\n",
       "      <td>Аристарх Лентулов&lt;img src=\"https://otvet.imgsm...</td>\n",
       "    </tr>\n",
       "    <tr>\n",
       "      <th>1344179</th>\n",
       "      <td>1344179</td>\n",
       "      <td>Тем кто был в Старбакс.В Интернете говорят что...</td>\n",
       "      <td>1414</td>\n",
       "      <td>Закуски и Салаты</td>\n",
       "      <td>поесть нормально можно. Кофе я там не беру</td>\n",
       "    </tr>\n",
       "    <tr>\n",
       "      <th>1344180</th>\n",
       "      <td>1344180</td>\n",
       "      <td>Ваша интуиция вас редко подводит?.</td>\n",
       "      <td>1443</td>\n",
       "      <td>Психология</td>\n",
       "      <td>Вообще то интуиция не подводит никогда проблем...</td>\n",
       "    </tr>\n",
       "  </tbody>\n",
       "</table>\n",
       "</div>"
      ],
      "text/plain": [
       "              id                                           question  cat_id  \\\n",
       "1344176  1344176              Почему моего сына преследуют неудачи.    1354   \n",
       "1344177  1344177  Хочу взять кредит. Хочу взять в кредит 250.000...    1346   \n",
       "1344178  1344178  А эту ЗАКРЫТУЮ картину узнаете и покажете? Пож...    1502   \n",
       "1344179  1344179  Тем кто был в Старбакс.В Интернете говорят что...    1414   \n",
       "1344180  1344180                 Ваша интуиция вас редко подводит?.    1443   \n",
       "\n",
       "                    cat_name  \\\n",
       "1344176  Прочие предсказания   \n",
       "1344177      Банки и Кредиты   \n",
       "1344178    Живопись, Графика   \n",
       "1344179     Закуски и Салаты   \n",
       "1344180           Психология   \n",
       "\n",
       "                                                    answer  \n",
       "1344176  Скорее всего на нем накопилось много негатива ...  \n",
       "1344177          Маловероятно по сумме при такой зарплате.  \n",
       "1344178  Аристарх Лентулов<img src=\"https://otvet.imgsm...  \n",
       "1344179         поесть нормально можно. Кофе я там не беру  \n",
       "1344180  Вообще то интуиция не подводит никогда проблем...  "
      ]
     },
     "execution_count": 76,
     "metadata": {},
     "output_type": "execute_result"
    }
   ],
   "source": [
    "test_by_table.head()"
   ]
  },
  {
   "cell_type": "code",
   "execution_count": 77,
   "metadata": {},
   "outputs": [],
   "source": [
    "predict = pip.predict(features_only['answer'][1344176:])"
   ]
  },
  {
   "cell_type": "code",
   "execution_count": 93,
   "metadata": {},
   "outputs": [],
   "source": [
    "ind=[]\n",
    "for i in range(1344176,1374175):\n",
    "    ind.append(i)"
   ]
  },
  {
   "cell_type": "code",
   "execution_count": 95,
   "metadata": {},
   "outputs": [],
   "source": [
    "my_series = pd.Series(predict,index=ind)"
   ]
  },
  {
   "cell_type": "code",
   "execution_count": 129,
   "metadata": {},
   "outputs": [
    {
     "name": "stderr",
     "output_type": "stream",
     "text": [
      "C:\\Users\\koval\\Anaconda3\\lib\\site-packages\\ipykernel_launcher.py:1: SettingWithCopyWarning: \n",
      "A value is trying to be set on a copy of a slice from a DataFrame.\n",
      "Try using .loc[row_indexer,col_indexer] = value instead\n",
      "\n",
      "See the caveats in the documentation: http://pandas.pydata.org/pandas-docs/stable/indexing.html#indexing-view-versus-copy\n",
      "  \"\"\"Entry point for launching an IPython kernel.\n"
     ]
    }
   ],
   "source": [
    "test_by_table['target']=my_series"
   ]
  },
  {
   "cell_type": "code",
   "execution_count": 155,
   "metadata": {},
   "outputs": [],
   "source": [
    "answer = test_by_table[['target']]"
   ]
  },
  {
   "cell_type": "code",
   "execution_count": 135,
   "metadata": {},
   "outputs": [],
   "source": [
    "answer.set_index('target', inplace=True)"
   ]
  },
  {
   "cell_type": "code",
   "execution_count": 159,
   "metadata": {},
   "outputs": [
    {
     "name": "stderr",
     "output_type": "stream",
     "text": [
      "C:\\Users\\koval\\Anaconda3\\lib\\site-packages\\pandas\\core\\generic.py:3643: SettingWithCopyWarning: \n",
      "A value is trying to be set on a copy of a slice from a DataFrame.\n",
      "Try using .loc[row_indexer,col_indexer] = value instead\n",
      "\n",
      "See the caveats in the documentation: http://pandas.pydata.org/pandas-docs/stable/indexing.html#indexing-view-versus-copy\n",
      "  self[name] = value\n"
     ]
    }
   ],
   "source": [
    "answer.target = answer.target.astype(np.int64)"
   ]
  },
  {
   "cell_type": "code",
   "execution_count": 161,
   "metadata": {},
   "outputs": [],
   "source": [
    "answer.set_index('target', inplace=True)"
   ]
  },
  {
   "cell_type": "code",
   "execution_count": 163,
   "metadata": {},
   "outputs": [],
   "source": [
    "answer.to_csv('./data/answer.csv')"
   ]
  }
 ],
 "metadata": {
  "kernelspec": {
   "display_name": "Python 3 (ipykernel)",
   "language": "python",
   "name": "python3"
  },
  "language_info": {
   "codemirror_mode": {
    "name": "ipython",
    "version": 3
   },
   "file_extension": ".py",
   "mimetype": "text/x-python",
   "name": "python",
   "nbconvert_exporter": "python",
   "pygments_lexer": "ipython3",
   "version": "3.9.7"
  }
 },
 "nbformat": 4,
 "nbformat_minor": 2
}
